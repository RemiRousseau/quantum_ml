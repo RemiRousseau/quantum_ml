{
 "cells": [
  {
   "cell_type": "code",
   "execution_count": 1,
   "metadata": {
    "collapsed": true
   },
   "outputs": [],
   "source": [
    "import numpy as np"
   ]
  },
  {
   "cell_type": "code",
   "execution_count": 2,
   "metadata": {
    "collapsed": true
   },
   "outputs": [],
   "source": [
    "def rescale(x, x_min = -np.pi/2, x_max = np.pi/2):\n",
    "    res = x.copy()\n",
    "    for d in range(len(res[0])):\n",
    "        max_d = np.max(res[:,d])\n",
    "        min_d = np.min(res[:,d])\n",
    "        if max_d - min_d != 0 :\n",
    "            res[:,d] = x_min + (x[:,d] - min_d)*(x_max - x_min)/(max_d - min_d)\n",
    "        else :\n",
    "            res[:,d] = (x_max+x_min)/2\n",
    "    return res"
   ]
  },
  {
   "cell_type": "code",
   "execution_count": null,
   "metadata": {
    "collapsed": true
   },
   "outputs": [],
   "source": []
  }
 ],
 "metadata": {
  "kernelspec": {
   "display_name": "Python [conda env:quantum]",
   "language": "python",
   "name": "conda-env-quantum-py"
  },
  "language_info": {
   "codemirror_mode": {
    "name": "ipython",
    "version": 3
   },
   "file_extension": ".py",
   "mimetype": "text/x-python",
   "name": "python",
   "nbconvert_exporter": "python",
   "pygments_lexer": "ipython3",
   "version": "3.8.5"
  }
 },
 "nbformat": 4,
 "nbformat_minor": 2
}
