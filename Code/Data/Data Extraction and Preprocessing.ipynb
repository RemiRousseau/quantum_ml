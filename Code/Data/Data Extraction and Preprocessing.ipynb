{
 "cells": [
  {
   "cell_type": "code",
   "execution_count": 1,
   "metadata": {
    "collapsed": false
   },
   "outputs": [],
   "source": [
    "import numpy as np\n",
    "import pandas as pd\n",
    "import datetime"
   ]
  },
  {
   "cell_type": "markdown",
   "metadata": {},
   "source": [
    "# Data Loading"
   ]
  },
  {
   "cell_type": "code",
   "execution_count": 2,
   "metadata": {
    "collapsed": false
   },
   "outputs": [],
   "source": [
    "CDC_RP = pd.read_csv('CDC_RP.csv')\n",
    "CDC_RS = pd.read_csv('CDC_RS.csv')\n",
    "infos_linky_edf_2018_RP = pd.read_csv('infos_linky_edf_2018_RP.csv')\n",
    "infos_linky_edf_2018_RS = pd.read_csv('infos_linky_edf_2018_RS.csv')\n",
    "Pmax_RP = pd.read_csv('Pmax_RP.csv')\n",
    "Pmax_RS = pd.read_csv('Pmax_RS.csv')"
   ]
  },
  {
   "cell_type": "markdown",
   "metadata": {},
   "source": [
    "# Data Processing"
   ]
  },
  {
   "cell_type": "code",
   "execution_count": 3,
   "metadata": {
    "collapsed": false
   },
   "outputs": [],
   "source": [
    "CDC_RP['date'] = pd.to_datetime(CDC_RP['date_msr'], dayfirst=True)\n",
    "stats_primary = CDC_RP.groupby('pom').count()\n",
    "keep_primary = stats_primary.loc[stats_primary.date_msr==365].index.values\n",
    "CDC_RS['date'] = pd.to_datetime(CDC_RP['date_msr'], dayfirst=True)\n",
    "stats_secondary = CDC_RS.groupby('pom').count()\n",
    "keep_secondary = stats_secondary.loc[stats_secondary.date_msr==365].index.values\n",
    "\n",
    "CDC_RP = CDC_RP.loc[CDC_RP.pom.isin(keep_primary)]\n",
    "CDC_RS = CDC_RS.loc[CDC_RS.pom.isin(keep_secondary)]\n",
    "\n",
    "#Sort by date for each client\n",
    "CDC_RP = CDC_RP.groupby('pom').apply(lambda x : x.sort_values('date'))\n",
    "CDC_RS = CDC_RS.groupby('pom').apply(lambda x : x.sort_values('date'))\n",
    "\n",
    "#Split by client\n",
    "x_RP = CDC_RP.conso_jour.values\n",
    "x_RS = CDC_RS.conso_jour.values\n",
    "x_RP = np.array_split(x_RP, len(x_RP)//365)\n",
    "x_RS = np.array_split(x_RS, len(x_RS)//365)\n",
    "\n",
    "#Concatenate and save\n",
    "x = np.concatenate((x_RP, x_RS))\n",
    "y = np.concatenate((np.zeros(len(x_RP)), np.ones(len(x_RS)))).astype('int')\n",
    "clients = np.concatenate((CDC_RP.pom.unique(), CDC_RS.pom.unique()))\n",
    "\n",
    "np.save('conso.npy', x)\n",
    "np.save('labels.npy', y)\n",
    "np.save('clients.npy', clients)"
   ]
  },
  {
   "cell_type": "code",
   "execution_count": 7,
   "metadata": {
    "collapsed": true
   },
   "outputs": [],
   "source": [
    "def extract_features(X, timestamp):\n",
    "    dates = pd.DatetimeIndex(timestamp)\n",
    "    feature_list = ['mean', 'std', 'max', 'min', 'mean_we', 'mean_wd']\n",
    "    feature_list += ['mean_month_%i'%(i) for i in range(12)]\n",
    "        \n",
    "    nfeat = len(feature_list)\n",
    "    feats = np.zeros((X.shape[0], nfeat))\n",
    "    feats[:,0] = X.mean(axis=1)\n",
    "    feats[:,1] = X.std(axis=1)\n",
    "    feats[:,2] = X.max(axis=1)\n",
    "    feats[:,3] = X.min(axis=1)\n",
    "    feats[:,4] = np.mean(X[:, dates.weekday>=5], axis=1)\n",
    "    feats[:,5] = np.mean(X[:, dates.weekday<5], axis=1)\n",
    "    for i in range(12):\n",
    "        j = i+6\n",
    "        feats[:,j] = np.mean(X[:, dates.month==i+1], axis=1)\n",
    "        \n",
    "    return feats, feature_list"
   ]
  },
  {
   "cell_type": "code",
   "execution_count": 8,
   "metadata": {
    "collapsed": false
   },
   "outputs": [],
   "source": [
    "timestamp = [datetime.datetime(2021,1,1) + datetime.timedelta(days=x) for x in range(365)]\n",
    "feats, feature_list = extract_features(x, timestamp)"
   ]
  },
  {
   "cell_type": "code",
   "execution_count": 9,
   "metadata": {
    "collapsed": false
   },
   "outputs": [],
   "source": [
    "np.save('feats.npy', feats)\n",
    "np.save('feature_list.npy', feature_list)"
   ]
  },
  {
   "cell_type": "code",
   "execution_count": null,
   "metadata": {
    "collapsed": true
   },
   "outputs": [],
   "source": []
  }
 ],
 "metadata": {
  "kernelspec": {
   "display_name": "Python [conda env:quantum]",
   "language": "python",
   "name": "conda-env-quantum-py"
  },
  "language_info": {
   "codemirror_mode": {
    "name": "ipython",
    "version": 3
   },
   "file_extension": ".py",
   "mimetype": "text/x-python",
   "name": "python",
   "nbconvert_exporter": "python",
   "pygments_lexer": "ipython3",
   "version": "3.8.5"
  }
 },
 "nbformat": 4,
 "nbformat_minor": 2
}
