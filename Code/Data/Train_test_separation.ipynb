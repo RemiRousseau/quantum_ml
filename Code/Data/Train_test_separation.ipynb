{
 "cells": [
  {
   "cell_type": "code",
   "execution_count": 90,
   "metadata": {
    "collapsed": true
   },
   "outputs": [],
   "source": [
    "import numpy as np"
   ]
  },
  {
   "cell_type": "code",
   "execution_count": 91,
   "metadata": {
    "collapsed": false
   },
   "outputs": [],
   "source": [
    "def train_test_separation (x,y,n = 0,ratio_train_test = 0.7, label_ratio_train = 0):\n",
    "    if n == 0 :\n",
    "        n  = len(x)\n",
    "    n_RP = np.where(y == 1)[0][0]\n",
    "    n_RS = len(x) - n_RP\n",
    "    label_ratio_test = n_RP/len(x)\n",
    "    if label_ratio_train == 0: \n",
    "        label_ratio_train = label_ratio_test\n",
    "        \n",
    "    n_RPkeep = int(n*(ratio_train_test*label_ratio_train + (1 - ratio_train_test)*label_ratio_test))\n",
    "    n_RSkeep = int(n*(ratio_train_test*(1-label_ratio_train) + (1 - ratio_train_test)*(1-label_ratio_test)))\n",
    "    \n",
    "    if n_RSkeep > n_RS :\n",
    "        n_RPkeep = int(n_RPkeep/n_RSkeep*n_RS)\n",
    "        n_RSkeep = n_RS\n",
    "        \n",
    "    keep_RP = np.random.choice(n_RP, n_RPkeep, replace=False)\n",
    "    keep_RS = np.random.choice(n_RS, n_RSkeep, replace=False) + n_RP\n",
    "    \n",
    "    n_RP_train = int((n_RPkeep + n_RSkeep) * ratio_train_test * label_ratio_train)\n",
    "    n_RS_train = int((n_RPkeep + n_RSkeep) * ratio_train_test * (1 - label_ratio_train))\n",
    "\n",
    "    keep_RP_train = keep_RP[:n_RP_train]\n",
    "    keep_RP_test = keep_RP[n_RP_train:]\n",
    "    keep_RS_train = keep_RS[:n_RS_train]\n",
    "    keep_RS_test = keep_RS[n_RS_train:]\n",
    "    \n",
    "    keep_train = np.concatenate((keep_RP_train,keep_RS_train),axis = 0)\n",
    "    keep_test = np.concatenate((keep_RP_test,keep_RS_test),axis = 0)\n",
    "    np.random.shuffle(keep_train)\n",
    "    np.random.shuffle(keep_test)\n",
    "    \n",
    "    return np.array([np.take(x, keep_train, 0), np.take(y, keep_train, 0),\n",
    "                    np.take(x, keep_test, 0), np.take(y, keep_test, 0)])"
   ]
  },
  {
   "cell_type": "code",
   "execution_count": 92,
   "metadata": {
    "collapsed": false
   },
   "outputs": [],
   "source": [
    "x = np.load('feats.npy')\n",
    "y = np.load('labels.npy')"
   ]
  },
  {
   "cell_type": "code",
   "execution_count": 118,
   "metadata": {
    "collapsed": false
   },
   "outputs": [
    {
     "data": {
      "text/plain": [
       "71.42857142857143"
      ]
     },
     "execution_count": 118,
     "metadata": {},
     "output_type": "execute_result"
    }
   ],
   "source": [
    "50/0.7"
   ]
  },
  {
   "cell_type": "code",
   "execution_count": 166,
   "metadata": {
    "collapsed": true
   },
   "outputs": [],
   "source": [
    "N = 0\n",
    "ratio = 0.5"
   ]
  },
  {
   "cell_type": "code",
   "execution_count": 167,
   "metadata": {
    "collapsed": false
   },
   "outputs": [],
   "source": [
    "data = train_test_separation(x,y,n = N, label_ratio_train = ratio)"
   ]
  },
  {
   "cell_type": "code",
   "execution_count": 168,
   "metadata": {
    "collapsed": false
   },
   "outputs": [
    {
     "name": "stdout",
     "output_type": "stream",
     "text": [
      "0 in train :  1890\n",
      "1 in train :  1890\n",
      "0 in test :  1190\n",
      "1 in test :  431\n"
     ]
    }
   ],
   "source": [
    "print(\"0 in train : \",sum([y == 0 for y in data[1]]))\n",
    "print(\"1 in train : \",sum([y == 1 for y in data[1]]))\n",
    "print(\"0 in test : \",sum([y == 0 for y in data[3]]))\n",
    "print(\"1 in test : \",sum([y == 1 for y in data[3]]))"
   ]
  },
  {
   "cell_type": "code",
   "execution_count": 169,
   "metadata": {
    "collapsed": false
   },
   "outputs": [],
   "source": [
    "if ratio != 0:\n",
    "    if N!=0 :\n",
    "        np.save(\"Separated/train_test_n\"+str(N)+\"_r\"+str(int(ratio*100))+\".npy\",data)\n",
    "    else:\n",
    "        np.save(\"Separated/train_test_na_r\"+str(int(ratio*100))+\".npy\",data)\n",
    "else:\n",
    "    if N!=0 :\n",
    "        np.save(\"Separated/train_test_n\"+str(N)+\"_ro.npy\",data)\n",
    "    else:\n",
    "        np.save(\"Separated/train_test_na_ro.npy\",data)\n"
   ]
  },
  {
   "cell_type": "code",
   "execution_count": null,
   "metadata": {
    "collapsed": true
   },
   "outputs": [],
   "source": []
  }
 ],
 "metadata": {
  "kernelspec": {
   "display_name": "Python [conda env:quantum]",
   "language": "python",
   "name": "conda-env-quantum-py"
  },
  "language_info": {
   "codemirror_mode": {
    "name": "ipython",
    "version": 3
   },
   "file_extension": ".py",
   "mimetype": "text/x-python",
   "name": "python",
   "nbconvert_exporter": "python",
   "pygments_lexer": "ipython3",
   "version": "3.8.5"
  }
 },
 "nbformat": 4,
 "nbformat_minor": 2
}
