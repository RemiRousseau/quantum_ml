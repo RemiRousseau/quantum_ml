{
 "cells": [
  {
   "cell_type": "code",
   "execution_count": null,
   "metadata": {
    "collapsed": true
   },
   "outputs": [],
   "source": [
    "%run ./State_preparation_final.ipynb"
   ]
  },
  {
   "cell_type": "code",
   "execution_count": 3,
   "metadata": {
    "collapsed": false
   },
   "outputs": [],
   "source": [
    "def transfo(values):\n",
    "    \"\"\"Helper function to write the tests input vectors\"\"\"\n",
    "    res=[]\n",
    "    test_norm = 0\n",
    "    if len(values) == 1:\n",
    "        values.append([0,0])\n",
    "    for _ in range(2**(math.ceil(math.log(len(values),2)))-len(values)):\n",
    "        values.append([0,0])\n",
    "    for el in values :\n",
    "        res.append(np.sign(el[0])*np.sqrt(abs(el[0]))+\n",
    "                  np.sign(el[1])*np.sqrt(abs(el[1]))*1j) \n",
    "        test_norm += abs(el[0])+abs(el[1])\n",
    "    if test_norm!=1 :\n",
    "        print(\"Vector is not normalized, norm is :\",test_norm)\n",
    "        print(\"Renormalizing ...\\n\")\n",
    "        return list(np.array(res)/np.sqrt(test_norm))\n",
    "    else:\n",
    "        print(\"Vector is normalized\\n\")\n",
    "        return res"
   ]
  },
  {
   "cell_type": "code",
   "execution_count": 11,
   "metadata": {
    "collapsed": false
   },
   "outputs": [
    {
     "name": "stdout",
     "output_type": "stream",
     "text": [
      "Vector is not normalized, norm is : 2.0\n",
      "Renormalizing ...\n",
      "\n"
     ]
    },
    {
     "data": {
      "image/svg+xml": [
       "<svg xmlns=\"http://www.w3.org/2000/svg\" width=\"1038.2179296875001\" height=\"150.0\"><line x1=\"34.7588671875\" x2=\"1008.2179296875001\" y1=\"25.0\" y2=\"25.0\" stroke=\"#1967d2\" stroke-width=\"1\" /><line x1=\"34.7588671875\" x2=\"1008.2179296875001\" y1=\"75.0\" y2=\"75.0\" stroke=\"#1967d2\" stroke-width=\"1\" /><line x1=\"34.7588671875\" x2=\"1008.2179296875001\" y1=\"125.0\" y2=\"125.0\" stroke=\"#1967d2\" stroke-width=\"1\" /><line x1=\"376.18203125\" x2=\"376.18203125\" y1=\"75.0\" y2=\"125.0\" stroke=\"black\" stroke-width=\"3\" /><line x1=\"540.279765625\" x2=\"540.279765625\" y1=\"75.0\" y2=\"125.0\" stroke=\"black\" stroke-width=\"3\" /><line x1=\"813.1939453125001\" x2=\"813.1939453125001\" y1=\"75.0\" y2=\"125.0\" stroke=\"black\" stroke-width=\"3\" /><line x1=\"968.2179296875001\" x2=\"968.2179296875001\" y1=\"75.0\" y2=\"125.0\" stroke=\"black\" stroke-width=\"3\" /><rect x=\"10.0\" y=\"5.0\" width=\"49.517734375\" height=\"40\" stroke=\"black\" fill=\"white\" stroke-width=\"0\" /><text x=\"34.7588671875\" y=\"25.0\" dominant-baseline=\"middle\" text-anchor=\"middle\" font-size=\"14px\" font-family=\"Arial\">(0, 0): </text><rect x=\"10.0\" y=\"55.0\" width=\"49.517734375\" height=\"40\" stroke=\"black\" fill=\"white\" stroke-width=\"0\" /><text x=\"34.7588671875\" y=\"75.0\" dominant-baseline=\"middle\" text-anchor=\"middle\" font-size=\"14px\" font-family=\"Arial\">(0, 1): </text><rect x=\"10.0\" y=\"105.0\" width=\"49.517734375\" height=\"40\" stroke=\"black\" fill=\"white\" stroke-width=\"0\" /><text x=\"34.7588671875\" y=\"125.0\" dominant-baseline=\"middle\" text-anchor=\"middle\" font-size=\"14px\" font-family=\"Arial\">(0, 2): </text><rect x=\"79.517734375\" y=\"5.0\" width=\"66.28328125\" height=\"40\" stroke=\"black\" fill=\"white\" stroke-width=\"1\" /><text x=\"112.65937500000001\" y=\"25.0\" dominant-baseline=\"middle\" text-anchor=\"middle\" font-size=\"14px\" font-family=\"Arial\">Ry(0.5π)</text><rect x=\"165.801015625\" y=\"55.0\" width=\"66.28328125\" height=\"40\" stroke=\"black\" fill=\"white\" stroke-width=\"1\" /><text x=\"198.94265625\" y=\"75.0\" dominant-baseline=\"middle\" text-anchor=\"middle\" font-size=\"14px\" font-family=\"Arial\">Ry(0.5π)</text><rect x=\"252.08429687499998\" y=\"105.0\" width=\"84.097734375\" height=\"40\" stroke=\"black\" fill=\"white\" stroke-width=\"1\" /><text x=\"294.1331640625\" y=\"125.0\" dominant-baseline=\"middle\" text-anchor=\"middle\" font-size=\"14px\" font-family=\"Arial\">Ry(0.565π)</text><circle cx=\"376.18203125\" cy=\"75.0\" r=\"10.0\" /><rect x=\"356.18203125\" y=\"105.0\" width=\"40\" height=\"40\" stroke=\"black\" fill=\"white\" stroke-width=\"1\" /><text x=\"376.18203125\" y=\"125.0\" dominant-baseline=\"middle\" text-anchor=\"middle\" font-size=\"18px\" font-family=\"Arial\">X</text><rect x=\"416.18203125\" y=\"105.0\" width=\"84.097734375\" height=\"40\" stroke=\"black\" fill=\"white\" stroke-width=\"1\" /><text x=\"458.2308984375\" y=\"125.0\" dominant-baseline=\"middle\" text-anchor=\"middle\" font-size=\"14px\" font-family=\"Arial\">Ry(0.065π)</text><circle cx=\"540.279765625\" cy=\"75.0\" r=\"10.0\" /><rect x=\"520.279765625\" y=\"105.0\" width=\"40\" height=\"40\" stroke=\"black\" fill=\"white\" stroke-width=\"1\" /><text x=\"540.279765625\" y=\"125.0\" dominant-baseline=\"middle\" text-anchor=\"middle\" font-size=\"18px\" font-family=\"Arial\">X</text><rect x=\"580.279765625\" y=\"55.0\" width=\"83.93121093750001\" height=\"40\" stroke=\"black\" fill=\"white\" stroke-width=\"1\" /><text x=\"622.24537109375\" y=\"75.0\" dominant-baseline=\"middle\" text-anchor=\"middle\" font-size=\"14px\" font-family=\"Arial\">Rz(0.576π)</text><rect x=\"684.2109765625\" y=\"105.0\" width=\"88.98296875000001\" height=\"40\" stroke=\"black\" fill=\"white\" stroke-width=\"1\" /><text x=\"728.7024609375001\" y=\"125.0\" dominant-baseline=\"middle\" text-anchor=\"middle\" font-size=\"14px\" font-family=\"Arial\">Rz(-0.597π)</text><circle cx=\"813.1939453125001\" cy=\"75.0\" r=\"10.0\" /><rect x=\"793.1939453125001\" y=\"105.0\" width=\"40\" height=\"40\" stroke=\"black\" fill=\"white\" stroke-width=\"1\" /><text x=\"813.1939453125001\" y=\"125.0\" dominant-baseline=\"middle\" text-anchor=\"middle\" font-size=\"18px\" font-family=\"Arial\">X</text><rect x=\"853.1939453125001\" y=\"105.0\" width=\"75.02398437500001\" height=\"40\" stroke=\"black\" fill=\"white\" stroke-width=\"1\" /><text x=\"890.7059375000001\" y=\"125.0\" dominant-baseline=\"middle\" text-anchor=\"middle\" font-size=\"14px\" font-family=\"Arial\">Rz(1.04π)</text><circle cx=\"968.2179296875001\" cy=\"75.0\" r=\"10.0\" /><rect x=\"948.2179296875001\" y=\"105.0\" width=\"40\" height=\"40\" stroke=\"black\" fill=\"white\" stroke-width=\"1\" /><text x=\"968.2179296875001\" y=\"125.0\" dominant-baseline=\"middle\" text-anchor=\"middle\" font-size=\"18px\" font-family=\"Arial\">X</text></svg>"
      ],
      "text/plain": [
       "<cirq.contrib.svg.svg.SVGCircuit at 0x7f7ef2315048>"
      ]
     },
     "execution_count": 11,
     "metadata": {},
     "output_type": "execute_result"
    }
   ],
   "source": [
    "amplitudes = [[-0.08,-0.07],[0.1,-0.25],[-0.2,0.05],[-0.15,-0.1],[-0.08,-0.07],[0.1,-0.25],[-0.2,0.05],[-0.15,-0.1]]\n",
    "#amplitudes = [[-1,0]]\n",
    "i_vec = transfo(amplitudes)\n",
    "N = len(i_vec)\n",
    "qubits = cirq.GridQubit.rect(1,math.ceil(math.log(N,2)))\n",
    "circuit = gen_circuit_encodding(i_vec,qubits)\n",
    "SVGCircuit(circuit)"
   ]
  },
  {
   "cell_type": "code",
   "execution_count": 58,
   "metadata": {
    "collapsed": false
   },
   "outputs": [
    {
     "name": "stdout",
     "output_type": "stream",
     "text": [
      "Initial vector :   [(-0.138-0.129j), (0.188-0.243j), (-0.218+0.109j), (-0.188-0.154j), (-0.138-0.129j), (0.188-0.243j), (-0.218+0.109j), (-0.188-0.154j), (-0.138-0.129j), (0.188-0.243j), (-0.218+0.109j), (-0.188-0.154j), (-0.138-0.129j), (0.188-0.243j), (-0.218+0.109j), (-0.188-0.154j)]\n",
      "Simulated output : [(-0.138-0.129j), (0.188-0.243j), (-0.218+0.109j), (-0.188-0.154j), (-0.138-0.129j), (0.188-0.243j), (-0.218+0.109j), (-0.188-0.154j), (-0.138-0.129j), (0.188-0.243j), (-0.218+0.109j), (-0.188-0.154j), (-0.138-0.129j), (0.188-0.243j), (-0.218+0.109j), (-0.188-0.154j)]\n",
      "Error by basis vector : [0.0, 0.0, 0.0, 0.0, 0.0, 0.0, 0.0, 0.0, 0.0, 0.0, 0.0, 0.0, 0.0, 0.0, 0.0, 0.0]\n",
      "Squared error : 2.1557767285468557e-14\n"
     ]
    }
   ],
   "source": [
    "sim = cirq.Simulator()\n",
    "res = sim.simulate(circuit)\n",
    "print_decimal_nb = 3\n",
    "pr_help = 10**print_decimal_nb\n",
    "global_phase_resolved = [el * np.exp(-1j*(np.angle(res.final_state_vector[0])-np.angle(i_vec[0]))) for el in res.final_state_vector]\n",
    "print(\"Initial vector :  \",[int(np.real(x)*pr_help)/pr_help + int(np.imag(x)*pr_help)/pr_help*1j for x in i_vec])\n",
    "print(\"Simulated output :\",[int(np.real(x)*pr_help)/pr_help + int(np.imag(x)*pr_help)/pr_help*1j for x in global_phase_resolved])\n",
    "\n",
    "error_threshold_exp = 7\n",
    "er_help = 10**error_threshold_exp\n",
    "error = [int(np.real(inp-out)*er_help)/er_help + int(np.imag(inp-out)*er_help)/er_help for inp,out in zip(i_vec,global_phase_resolved)]\n",
    "squarred_error = sum([np.abs(inp-out)**2 for inp,out in zip(i_vec,global_phase_resolved)])\n",
    "print(\"Error by basis vector :\", error)\n",
    "print(\"Squared error :\",squarred_error)"
   ]
  },
  {
   "cell_type": "code",
   "execution_count": null,
   "metadata": {
    "collapsed": true
   },
   "outputs": [],
   "source": []
  }
 ],
 "metadata": {
  "kernelspec": {
   "display_name": "Python [conda env:quantum2]",
   "language": "python",
   "name": "conda-env-quantum2-py"
  },
  "language_info": {
   "codemirror_mode": {
    "name": "ipython",
    "version": 3
   },
   "file_extension": ".py",
   "mimetype": "text/x-python",
   "name": "python",
   "nbconvert_exporter": "python",
   "pygments_lexer": "ipython3",
   "version": "3.6.13"
  }
 },
 "nbformat": 4,
 "nbformat_minor": 2
}
