{
 "cells": [
  {
   "cell_type": "code",
   "execution_count": 2,
   "metadata": {
    "collapsed": false
   },
   "outputs": [],
   "source": [
    "%run ./State_preparation_final.ipynb"
   ]
  },
  {
   "cell_type": "code",
   "execution_count": 3,
   "metadata": {
    "collapsed": false
   },
   "outputs": [],
   "source": [
    "def transfo(values):\n",
    "    \"\"\"Helper function to write the tests input vectors\"\"\"\n",
    "    res=[]\n",
    "    test_norm = 0\n",
    "    if len(values) == 1:\n",
    "        values.append([0,0])\n",
    "    for _ in range(2**(math.ceil(math.log(len(values),2)))-len(values)):\n",
    "        values.append([0,0])\n",
    "    for el in values :\n",
    "        res.append(np.sign(el[0])*np.sqrt(abs(el[0]))+\n",
    "                  np.sign(el[1])*np.sqrt(abs(el[1]))*1j) \n",
    "        test_norm += abs(el[0])+abs(el[1])\n",
    "    if test_norm!=1 :\n",
    "        print(\"Vector is not normalized, norm is :\",test_norm)\n",
    "        print(\"Renormalizing ...\\n\")\n",
    "        return list(np.array(res)/np.sqrt(test_norm))\n",
    "    else:\n",
    "        print(\"Vector is normalized\\n\")\n",
    "        return res"
   ]
  },
  {
   "cell_type": "code",
   "execution_count": 10,
   "metadata": {
    "collapsed": false
   },
   "outputs": [
    {
     "name": "stdout",
     "output_type": "stream",
     "text": [
      "Vector is normalized\n",
      "\n"
     ]
    },
    {
     "data": {
      "image/svg+xml": [
       "<svg xmlns=\"http://www.w3.org/2000/svg\" width=\"951.9346484375002\" height=\"100.0\"><line x1=\"34.7588671875\" x2=\"921.9346484375002\" y1=\"25.0\" y2=\"25.0\" stroke=\"#1967d2\" stroke-width=\"1\" /><line x1=\"34.7588671875\" x2=\"921.9346484375002\" y1=\"75.0\" y2=\"75.0\" stroke=\"#1967d2\" stroke-width=\"1\" /><line x1=\"289.89875\" x2=\"289.89875\" y1=\"25.0\" y2=\"75.0\" stroke=\"black\" stroke-width=\"3\" /><line x1=\"453.996484375\" x2=\"453.996484375\" y1=\"25.0\" y2=\"75.0\" stroke=\"black\" stroke-width=\"3\" /><line x1=\"726.9106640625001\" x2=\"726.9106640625001\" y1=\"25.0\" y2=\"75.0\" stroke=\"black\" stroke-width=\"3\" /><line x1=\"881.9346484375002\" x2=\"881.9346484375002\" y1=\"25.0\" y2=\"75.0\" stroke=\"black\" stroke-width=\"3\" /><rect x=\"10.0\" y=\"5.0\" width=\"49.517734375\" height=\"40\" stroke=\"black\" fill=\"white\" stroke-width=\"0\" /><text x=\"34.7588671875\" y=\"25.0\" dominant-baseline=\"middle\" text-anchor=\"middle\" font-size=\"14px\" font-family=\"Arial\">(0, 0): </text><rect x=\"10.0\" y=\"55.0\" width=\"49.517734375\" height=\"40\" stroke=\"black\" fill=\"white\" stroke-width=\"0\" /><text x=\"34.7588671875\" y=\"75.0\" dominant-baseline=\"middle\" text-anchor=\"middle\" font-size=\"14px\" font-family=\"Arial\">(0, 1): </text><rect x=\"79.517734375\" y=\"5.0\" width=\"66.28328125\" height=\"40\" stroke=\"black\" fill=\"white\" stroke-width=\"1\" /><text x=\"112.65937500000001\" y=\"25.0\" dominant-baseline=\"middle\" text-anchor=\"middle\" font-size=\"14px\" font-family=\"Arial\">Ry(0.5π)</text><rect x=\"165.801015625\" y=\"55.0\" width=\"84.097734375\" height=\"40\" stroke=\"black\" fill=\"white\" stroke-width=\"1\" /><text x=\"207.8498828125\" y=\"75.0\" dominant-baseline=\"middle\" text-anchor=\"middle\" font-size=\"14px\" font-family=\"Arial\">Ry(0.565π)</text><circle cx=\"289.89875\" cy=\"25.0\" r=\"10.0\" /><rect x=\"269.89875\" y=\"55.0\" width=\"40\" height=\"40\" stroke=\"black\" fill=\"white\" stroke-width=\"1\" /><text x=\"289.89875\" y=\"75.0\" dominant-baseline=\"middle\" text-anchor=\"middle\" font-size=\"18px\" font-family=\"Arial\">X</text><rect x=\"329.89875\" y=\"55.0\" width=\"84.097734375\" height=\"40\" stroke=\"black\" fill=\"white\" stroke-width=\"1\" /><text x=\"371.9476171875\" y=\"75.0\" dominant-baseline=\"middle\" text-anchor=\"middle\" font-size=\"14px\" font-family=\"Arial\">Ry(0.065π)</text><circle cx=\"453.996484375\" cy=\"25.0\" r=\"10.0\" /><rect x=\"433.996484375\" y=\"55.0\" width=\"40\" height=\"40\" stroke=\"black\" fill=\"white\" stroke-width=\"1\" /><text x=\"453.996484375\" y=\"75.0\" dominant-baseline=\"middle\" text-anchor=\"middle\" font-size=\"18px\" font-family=\"Arial\">X</text><rect x=\"493.996484375\" y=\"5.0\" width=\"83.93121093750001\" height=\"40\" stroke=\"black\" fill=\"white\" stroke-width=\"1\" /><text x=\"535.96208984375\" y=\"25.0\" dominant-baseline=\"middle\" text-anchor=\"middle\" font-size=\"14px\" font-family=\"Arial\">Rz(0.576π)</text><rect x=\"597.9276953125001\" y=\"55.0\" width=\"88.98296875000001\" height=\"40\" stroke=\"black\" fill=\"white\" stroke-width=\"1\" /><text x=\"642.4191796875001\" y=\"75.0\" dominant-baseline=\"middle\" text-anchor=\"middle\" font-size=\"14px\" font-family=\"Arial\">Rz(-0.597π)</text><circle cx=\"726.9106640625001\" cy=\"25.0\" r=\"10.0\" /><rect x=\"706.9106640625001\" y=\"55.0\" width=\"40\" height=\"40\" stroke=\"black\" fill=\"white\" stroke-width=\"1\" /><text x=\"726.9106640625001\" y=\"75.0\" dominant-baseline=\"middle\" text-anchor=\"middle\" font-size=\"18px\" font-family=\"Arial\">X</text><rect x=\"766.9106640625001\" y=\"55.0\" width=\"75.02398437500001\" height=\"40\" stroke=\"black\" fill=\"white\" stroke-width=\"1\" /><text x=\"804.4226562500002\" y=\"75.0\" dominant-baseline=\"middle\" text-anchor=\"middle\" font-size=\"14px\" font-family=\"Arial\">Rz(1.04π)</text><circle cx=\"881.9346484375002\" cy=\"25.0\" r=\"10.0\" /><rect x=\"861.9346484375002\" y=\"55.0\" width=\"40\" height=\"40\" stroke=\"black\" fill=\"white\" stroke-width=\"1\" /><text x=\"881.9346484375002\" y=\"75.0\" dominant-baseline=\"middle\" text-anchor=\"middle\" font-size=\"18px\" font-family=\"Arial\">X</text></svg>"
      ],
      "text/plain": [
       "<cirq.contrib.svg.svg.SVGCircuit at 0x7f7ef2309080>"
      ]
     },
     "execution_count": 10,
     "metadata": {},
     "output_type": "execute_result"
    }
   ],
   "source": [
    "amplitudes = [[-0.08,-0.07],[0.1,-0.25],[-0.2,0.05],[-0.15,-0.1]]\n",
    "#amplitudes = [[-1,0]]\n",
    "i_vec = transfo(amplitudes)\n",
    "N = len(i_vec)\n",
    "qubits = cirq.GridQubit.rect(1,math.ceil(math.log(N,2)))\n",
    "circuit = gen_circuit_encodding(i_vec,qubits)\n",
    "SVGCircuit(circuit)"
   ]
  },
  {
   "cell_type": "code",
   "execution_count": 58,
   "metadata": {
    "collapsed": false
   },
   "outputs": [
    {
     "name": "stdout",
     "output_type": "stream",
     "text": [
      "Initial vector :   [(-0.138-0.129j), (0.188-0.243j), (-0.218+0.109j), (-0.188-0.154j), (-0.138-0.129j), (0.188-0.243j), (-0.218+0.109j), (-0.188-0.154j), (-0.138-0.129j), (0.188-0.243j), (-0.218+0.109j), (-0.188-0.154j), (-0.138-0.129j), (0.188-0.243j), (-0.218+0.109j), (-0.188-0.154j)]\n",
      "Simulated output : [(-0.138-0.129j), (0.188-0.243j), (-0.218+0.109j), (-0.188-0.154j), (-0.138-0.129j), (0.188-0.243j), (-0.218+0.109j), (-0.188-0.154j), (-0.138-0.129j), (0.188-0.243j), (-0.218+0.109j), (-0.188-0.154j), (-0.138-0.129j), (0.188-0.243j), (-0.218+0.109j), (-0.188-0.154j)]\n",
      "Error by basis vector : [0.0, 0.0, 0.0, 0.0, 0.0, 0.0, 0.0, 0.0, 0.0, 0.0, 0.0, 0.0, 0.0, 0.0, 0.0, 0.0]\n",
      "Squared error : 2.1557767285468557e-14\n"
     ]
    }
   ],
   "source": [
    "sim = cirq.Simulator()\n",
    "res = sim.simulate(circuit)\n",
    "print_decimal_nb = 3\n",
    "pr_help = 10**print_decimal_nb\n",
    "global_phase_resolved = [el * np.exp(-1j*(np.angle(res.final_state_vector[0])-np.angle(i_vec[0]))) for el in res.final_state_vector]\n",
    "print(\"Initial vector :  \",[int(np.real(x)*pr_help)/pr_help + int(np.imag(x)*pr_help)/pr_help*1j for x in i_vec])\n",
    "print(\"Simulated output :\",[int(np.real(x)*pr_help)/pr_help + int(np.imag(x)*pr_help)/pr_help*1j for x in global_phase_resolved])\n",
    "\n",
    "error_threshold_exp = 7\n",
    "er_help = 10**error_threshold_exp\n",
    "error = [int(np.real(inp-out)*er_help)/er_help + int(np.imag(inp-out)*er_help)/er_help for inp,out in zip(i_vec,global_phase_resolved)]\n",
    "squarred_error = sum([np.abs(inp-out)**2 for inp,out in zip(i_vec,global_phase_resolved)])\n",
    "print(\"Error by basis vector :\", error)\n",
    "print(\"Squared error :\",squarred_error)"
   ]
  },
  {
   "cell_type": "code",
   "execution_count": null,
   "metadata": {
    "collapsed": true
   },
   "outputs": [],
   "source": []
  }
 ],
 "metadata": {
  "kernelspec": {
   "display_name": "Python [conda env:quantum2]",
   "language": "python",
   "name": "conda-env-quantum2-py"
  },
  "language_info": {
   "codemirror_mode": {
    "name": "ipython",
    "version": 3
   },
   "file_extension": ".py",
   "mimetype": "text/x-python",
   "name": "python",
   "nbconvert_exporter": "python",
   "pygments_lexer": "ipython3",
   "version": "3.6.13"
  }
 },
 "nbformat": 4,
 "nbformat_minor": 2
}
