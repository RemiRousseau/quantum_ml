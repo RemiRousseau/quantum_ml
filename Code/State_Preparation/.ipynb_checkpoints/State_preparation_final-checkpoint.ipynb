{
 "cells": [
  {
   "cell_type": "code",
   "execution_count": 1,
   "metadata": {
    "collapsed": true
   },
   "outputs": [],
   "source": [
    "import math\n",
    "import numpy as np\n",
    "import cirq\n",
    "import itertools\n",
    "import graycode"
   ]
  },
  {
   "cell_type": "code",
   "execution_count": null,
   "metadata": {
    "collapsed": true
   },
   "outputs": [],
   "source": [
    "from cirq.contrib.svg import SVGCircuit"
   ]
  },
  {
   "cell_type": "markdown",
   "metadata": {},
   "source": [
    "# Using Uniformly controlled rotations"
   ]
  },
  {
   "cell_type": "code",
   "execution_count": 3,
   "metadata": {
    "collapsed": true
   },
   "outputs": [],
   "source": [
    "def gen_angles(x) :\n",
    "    \"\"\"Generates the angles of rotations of the uniformly controlled\n",
    "    y rotations that encodes the amplitudes of the states\"\"\"\n",
    "    N = len(x)\n",
    "    N_2 = int(N/2)\n",
    "    if N > 1 :\n",
    "        new_x = [0]*N_2\n",
    "        for k in range(N_2) :\n",
    "            new_x[k] = np.sqrt(np.abs(x[2*k])**2 + np.abs(x[2*k+1])**2)\n",
    "        inner_angles = gen_angles(new_x)\n",
    "        angles = [0]*N_2\n",
    "        for k in range(N_2) :\n",
    "            if new_x[k] != 0 :\n",
    "                angles[k] = 2 * np.arcsin(np.abs(x[2*k+1])/new_x[k])\n",
    "        angles = inner_angles + angles\n",
    "        return angles\n",
    "    return []"
   ]
  },
  {
   "cell_type": "code",
   "execution_count": 4,
   "metadata": {
    "collapsed": true
   },
   "outputs": [],
   "source": [
    "def gen_angles_phase(x):\n",
    "    \"\"\"Generates the angles of rotations of the uniformly controlled\n",
    "    z rotations that encodes the phase of the states\"\"\"\n",
    "    n = math.ceil(math.log(len(x),2))\n",
    "    phases = [np.angle(el) for el in x]\n",
    "    angles = []\n",
    "    for k in range(n):\n",
    "        ang_k = []\n",
    "        for j in range(2**(n-k-1)):\n",
    "            angle_to_add = 0\n",
    "            for l in range(2**k):\n",
    "                angle_to_add += phases[(2*j+1)*2**k+l] - phases[(2*j)*2**k+l]\n",
    "            ang_k.append(angle_to_add/2**k)\n",
    "        angles = ang_k + angles\n",
    "    return angles"
   ]
  },
  {
   "cell_type": "code",
   "execution_count": 6,
   "metadata": {
    "collapsed": true
   },
   "outputs": [],
   "source": [
    "def list_c_not(rang):\n",
    "    \"\"\"Uses gray code binary encoding to determine the control bit of the CNOTs \n",
    "    in the decomposition of the uniformly controlled gates\"\"\"\n",
    "    if rang == 0 :\n",
    "        return [],[]\n",
    "    len_lst = 2**rang\n",
    "    cstr_str = '{:0'+str(rang)+'b}'\n",
    "    l_gc = [cstr_str.format(graycode.tc_to_gray_code(i)) for i in range(len_lst)]\n",
    "    res = []\n",
    "    for i in range(len_lst):\n",
    "        j = 0\n",
    "        while l_gc[i][j]==l_gc[(i+1)%len_lst][j]:\n",
    "            j+=1\n",
    "        res.append(rang - j)\n",
    "    return res,l_gc"
   ]
  },
  {
   "cell_type": "code",
   "execution_count": 7,
   "metadata": {
    "collapsed": true
   },
   "outputs": [],
   "source": [
    "def bit_wise_multi (bin_1,bin_2):\n",
    "    \"\"\"Implements a bit wise multiplication\"\"\"\n",
    "    if len(bin_1)>len(bin_2):\n",
    "        bin_2 = \"0\"*(len(bin_1)-len(bin_2))+bin_2\n",
    "    else:\n",
    "        bin_1 = \"0\"*(len(bin_2)-len(bin_1))+bin_1\n",
    "    res = 0\n",
    "    for i in range(len(bin_1)):\n",
    "        res += int(bin_1[i])*int(bin_2[i])\n",
    "    return res%2"
   ]
  },
  {
   "cell_type": "code",
   "execution_count": 26,
   "metadata": {
    "collapsed": false
   },
   "outputs": [],
   "source": [
    "def trim_gates(gates) :\n",
    "    to_pop = []\n",
    "    last_rot = 0\n",
    "    dico_ctrl = {}\n",
    "    for i,g in enumerate(gates) :\n",
    "        if g.gate == cirq.CNOT :\n",
    "            ctrl = g.qubits[0].col\n",
    "            if ctrl in dico_ctrl :\n",
    "                dico_ctrl[ctrl].append(i)\n",
    "            else:\n",
    "                dico_ctrl[ctrl] = [i]\n",
    "        if g.gate != cirq.CNOT or i == len(gates)-1 :\n",
    "            for k in dico_ctrl.keys():\n",
    "                len_el = len(dico_ctrl[k])\n",
    "                to_pop += dico_ctrl[k][:(len_el//2)*2]\n",
    "            last_rot = i\n",
    "            dico_ctrl = {}\n",
    "    to_pop.sort()\n",
    "    for i in range(len(to_pop)-1,-1,-1):\n",
    "        gates.pop(to_pop[i])\n",
    "    return gates"
   ]
  },
  {
   "cell_type": "code",
   "execution_count": 18,
   "metadata": {
    "collapsed": true
   },
   "outputs": [],
   "source": [
    "def uniformly_controlled(qubits,rang,angles,bit,axis) :\n",
    "    \"\"\"Creates the circuit to implement a uniformly \n",
    "    controlled gate decomposed in 2 qubits gates\"\"\"\n",
    "    if axis == \"y\":\n",
    "        gate = cirq.ry\n",
    "    elif axis == \"z\":\n",
    "        gate = cirq.rz\n",
    "        \n",
    "    if rang == 0:\n",
    "        if angles[0] != 0 :\n",
    "            return cirq.Circuit(gate(angles[0])(qubits[bit]))\n",
    "        else:\n",
    "            return cirq.Circuit()\n",
    "    \n",
    "    len_lst = 2**rang\n",
    "    c_nots,list_graycode = list_c_not(rang)\n",
    "    M_matrix = np.array([[(-1)**(bit_wise_multi(bin(i)[2:],list_graycode[j])) for j in range(len_lst)] for i in range(len_lst)])\n",
    "    new_ang = 2**(-rang)*np.dot(np.transpose(M_matrix),np.array(angles))\n",
    "    gates = []\n",
    "    for i in range(len_lst):\n",
    "        if new_ang[i] != 0:\n",
    "            gates.append(gate(new_ang[i])(qubits[bit]))\n",
    "        gates.append(cirq.CNOT(qubits[bit-c_nots[i]],qubits[bit]))\n",
    "    gates = trim_gates(gates.copy())\n",
    "    circuit = cirq.Circuit(gates)\n",
    "    return circuit"
   ]
  },
  {
   "cell_type": "code",
   "execution_count": 9,
   "metadata": {
    "collapsed": true
   },
   "outputs": [],
   "source": [
    "def gen_circuit_encodding(initial_vector,qubits) :\n",
    "    \"\"\"Generates the circuit to achieve amplitude encoding (up to a global phase)\"\"\"\n",
    "    angles = gen_angles(initial_vector)\n",
    "    phase_angles = gen_angles_phase(initial_vector)\n",
    "    N = math.ceil(math.log(len(angles)+1,2))\n",
    "    circuit = cirq.Circuit()\n",
    "    previous = [sum([2**i for i in range(k)]) for k in range(N)]\n",
    "    \n",
    "    #Encoding the amplitudes\n",
    "    for k in range(N):\n",
    "        prev = previous[k]\n",
    "        circuit+=uniformly_controlled(qubits,k,angles[prev:prev+2**k],k,\"y\")\n",
    "    \n",
    "    #Encoding the phases\n",
    "    for k in range(N):\n",
    "        prev = previous[k]\n",
    "        circuit+=uniformly_controlled(qubits,k,np.array(phase_angles[prev:prev+2**k]),k,\"z\")\n",
    "    return circuit"
   ]
  }
 ],
 "metadata": {
  "kernelspec": {
   "display_name": "Python [conda env:quantum2]",
   "language": "python",
   "name": "conda-env-quantum2-py"
  },
  "language_info": {
   "codemirror_mode": {
    "name": "ipython",
    "version": 3
   },
   "file_extension": ".py",
   "mimetype": "text/x-python",
   "name": "python",
   "nbconvert_exporter": "python",
   "pygments_lexer": "ipython3",
   "version": "3.6.13"
  }
 },
 "nbformat": 4,
 "nbformat_minor": 2
}
