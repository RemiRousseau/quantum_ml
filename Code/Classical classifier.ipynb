{
 "cells": [
  {
   "cell_type": "markdown",
   "metadata": {},
   "source": [
    "# Test on principal / secondary home classification"
   ]
  },
  {
   "cell_type": "code",
   "execution_count": null,
   "metadata": {
    "collapsed": false
   },
   "outputs": [],
   "source": [
    "import numpy as np\n",
    "import tensorflow as tf\n",
    "from sklearn.ensemble import RandomForestClassifier\n",
    "from sklearn.utils import compute_class_weight"
   ]
  },
  {
   "cell_type": "code",
   "execution_count": null,
   "metadata": {
    "collapsed": true
   },
   "outputs": [],
   "source": [
    "def load_data_file(n,r) :\n",
    "    l_n = [15,73,150,1500,\"a\"]\n",
    "    l_r = [50,\"o\"]\n",
    "    if n not in l_n :\n",
    "        print(\"n must be in \"+str(l_n))\n",
    "        return\n",
    "    if r not in l_r :\n",
    "        print(\"r must be in \"+str(l_r))\n",
    "        return\n",
    "    data = np.load('./Data/Separated/train_test_n'+str(n)+'_r'+str(r)+'.npy',allow_pickle=True)\n",
    "    return data[0],data[1],data[2],data[3]"
   ]
  },
  {
   "cell_type": "code",
   "execution_count": null,
   "metadata": {
    "collapsed": true
   },
   "outputs": [],
   "source": [
    "def confusion_matrix(y_test,y_est,name):\n",
    "    \n",
    "    #Handle of [-1,1] labels\n",
    "    if np.min(y_est) == -1 :\n",
    "        y_est_cl = (y_est + 1)/2\n",
    "    else:\n",
    "        y_est_cl = y_est\n",
    "        \n",
    "    if np.min(y_test) == -1 :\n",
    "        y_test_cl = (y_test + 1)/2\n",
    "    else:\n",
    "        y_test_cl = y_test\n",
    "    \n",
    "    #Computing matrix\n",
    "    matrix = [0,0,0,0] #TN,FN,FP,TP\n",
    "    for test,est in zip(y_test_cl,y_est_cl):\n",
    "        matrix[2*test+est] += 1\n",
    "    np.save(\"Classifiers/results/matrix_\"+name+\".npy\",np.array(matrix))\n",
    "    return matrix"
   ]
  },
  {
   "cell_type": "code",
   "execution_count": null,
   "metadata": {
    "collapsed": true
   },
   "outputs": [],
   "source": [
    "def dispaly_confusion_matrix (y_test,y_est,name,matrix = None):\n",
    "    if matrix is not None :\n",
    "        matrix = confusion_matrix(y_test, y_est,name)\n",
    "    print(\"TP : \"+str(matrix [3])+\"\\t\"+\"FP : \"+str(matrix[2]))\n",
    "    print(\"FN : \"+str(matrix [1])+\"\\t\"+\"TN : \"+str(matrix[0]))"
   ]
  },
  {
   "cell_type": "code",
   "execution_count": null,
   "metadata": {
    "collapsed": true
   },
   "outputs": [],
   "source": [
    "def performance_evaluation(y_test,y_est,name):\n",
    "    matrix = confusion_matrix(y_test,y_est,name)\n",
    "    dispaly_confusion_matrix(y_test,y_est,name,matrix)\n",
    "    TN,FN,FP,TP = matrix\n",
    "    \n",
    "    print(\"\\n------------------\\n\")\n",
    "    if TP+FP !=0 :\n",
    "        precision = TP/(TP+FP)\n",
    "        print(\"Precision RS : \"+str(precision))\n",
    "        recall = TP/(TP+FP)\n",
    "        print(\"Recall : \"+str(recall))\n",
    "    else:\n",
    "        print(\"Precision RS : None\")\n",
    "        print(\"Recall : None\")\n",
    "    if TN+FN !=0 :\n",
    "        neg_pred_val = TN/(TN+FN)\n",
    "        print(\"Precision RP : \"+str(neg_pred_val))\n",
    "    else:\n",
    "        print(\"Precision RP : None\")\n",
    "    if TN+FP !=0 :\n",
    "        specificity = TN/(TN+FP)\n",
    "        print(\"Specificity : \"+str(specificity))\n",
    "    else :\n",
    "        print(\"Specificity : None\")\n",
    "    accuracy = (TP+TN)/sum(matrix)\n",
    "    print(\"Accuracy : \"+str(accuracy))\n",
    "    if (TP+FN)*(TN+FP) != 0:\n",
    "        balanced_accuracy = (TP/(TP+FN)+TN/(TN+FP))/2\n",
    "        print(\"Balanced Accuracy : \"+str(balanced_accuracy))\n",
    "    else:\n",
    "        print(\"Balanced Accuracy : None\")\n",
    "    f1_score = 2*TP/(2*TP+FP+FN)\n",
    "    print(\"F1 Score : \"+str(f1_score))"
   ]
  },
  {
   "cell_type": "code",
   "execution_count": null,
   "metadata": {
    "collapsed": true
   },
   "outputs": [],
   "source": [
    "def PCA(x_train, x_test, n_components=10):\n",
    "    \"\"\"Perform PCA on image dataset keeping the top `n_components` components.\"\"\"\n",
    "    n_points_train = tf.gather(tf.shape(x_train), 0)\n",
    "    n_points_test = tf.gather(tf.shape(x_test), 0)\n",
    "\n",
    "    # Flatten to 1D\n",
    "    x_train = tf.reshape(x_train, [n_points_train, -1])\n",
    "    x_test = tf.reshape(x_test, [n_points_test, -1])\n",
    "\n",
    "    # Normalize.\n",
    "    feature_mean = tf.reduce_mean(x_train, axis=0)\n",
    "    x_train_normalized = x_train - feature_mean\n",
    "    x_test_normalized = x_test - feature_mean\n",
    "\n",
    "    # Truncate.\n",
    "    e_values, e_vectors = tf.linalg.eigh(tf.einsum('ji,jk->ik', x_train_normalized, x_train_normalized))\n",
    "    return tf.einsum('ij,jk->ik', x_train_normalized, e_vectors[:,-n_components:]).numpy(),\\\n",
    "            tf.einsum('ij,jk->ik', x_test_normalized, e_vectors[:, -n_components:]).numpy()"
   ]
  },
  {
   "cell_type": "markdown",
   "metadata": {},
   "source": [
    "# Random forest"
   ]
  },
  {
   "cell_type": "code",
   "execution_count": null,
   "metadata": {
    "collapsed": false
   },
   "outputs": [],
   "source": [
    "z_train, y_train, z_test, y_test = load_data_file(150,\"o\")\n",
    "z_train_pca, z_test_pca = PCA(z_train, z_test,n_components=4)\n",
    "z_train, y_train, z_test, y_test  = data[0],data[1],data[2],data[3]\n",
    "\n",
    "clf = RandomForestClassifier(n_jobs=-1, max_depth=10, class_weight='balanced')\n",
    "\n",
    "clf.fit(z_train, y_train)\n",
    "\n",
    "pred = clf.predict(z_test)"
   ]
  },
  {
   "cell_type": "code",
   "execution_count": null,
   "metadata": {
    "collapsed": false
   },
   "outputs": [],
   "source": [
    "performance_evaluation(y_test,pred,'RF_150_pca_4')"
   ]
  },
  {
   "cell_type": "code",
   "execution_count": null,
   "metadata": {
    "collapsed": true
   },
   "outputs": [],
   "source": []
  }
 ],
 "metadata": {
  "kernelspec": {
   "display_name": "Python [conda env:dds]",
   "language": "python",
   "name": "conda-env-dds-py"
  },
  "language_info": {
   "codemirror_mode": {
    "name": "ipython",
    "version": 3
   },
   "file_extension": ".py",
   "mimetype": "text/x-python",
   "name": "python",
   "nbconvert_exporter": "python",
   "pygments_lexer": "ipython3",
   "version": "3.5.3"
  },
  "toc": {
   "base_numbering": 1,
   "nav_menu": {},
   "number_sections": true,
   "sideBar": true,
   "skip_h1_title": false,
   "title_cell": "Table of Contents",
   "title_sidebar": "Contents",
   "toc_cell": false,
   "toc_position": {},
   "toc_section_display": true,
   "toc_window_display": false
  }
 },
 "nbformat": 4,
 "nbformat_minor": 4
}
